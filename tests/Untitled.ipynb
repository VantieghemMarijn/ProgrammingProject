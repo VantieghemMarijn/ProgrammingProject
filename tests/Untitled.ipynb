{
 "cells": [
  {
   "cell_type": "markdown",
   "id": "christian-government",
   "metadata": {},
   "source": [
    "# TESTING QUERIES"
   ]
  },
  {
   "cell_type": "code",
   "execution_count": 8,
   "id": "constant-helicopter",
   "metadata": {},
   "outputs": [],
   "source": [
    "import numpy as np\n",
    "import pandas as pd\n",
    "import matplotlib.pyplot as plt\n",
    "import seaborn as sns"
   ]
  },
  {
   "cell_type": "code",
   "execution_count": 4,
   "id": "conscious-possession",
   "metadata": {},
   "outputs": [
    {
     "name": "stderr",
     "output_type": "stream",
     "text": [
      "/usr/local/lib/python3.8/site-packages/IPython/core/interactiveshell.py:3155: DtypeWarning: Columns (2,4,6) have mixed types.Specify dtype option on import or set low_memory=False.\n",
      "  has_raised = await self.run_ast_nodes(code_ast.body, cell_name,\n"
     ]
    }
   ],
   "source": [
    "dataset = pd.read_csv('artists.csv')"
   ]
  },
  {
   "cell_type": "code",
   "execution_count": 5,
   "id": "supreme-bedroom",
   "metadata": {},
   "outputs": [
    {
     "data": {
      "text/html": [
       "<div>\n",
       "<style scoped>\n",
       "    .dataframe tbody tr th:only-of-type {\n",
       "        vertical-align: middle;\n",
       "    }\n",
       "\n",
       "    .dataframe tbody tr th {\n",
       "        vertical-align: top;\n",
       "    }\n",
       "\n",
       "    .dataframe thead th {\n",
       "        text-align: right;\n",
       "    }\n",
       "</style>\n",
       "<table border=\"1\" class=\"dataframe\">\n",
       "  <thead>\n",
       "    <tr style=\"text-align: right;\">\n",
       "      <th></th>\n",
       "      <th>mbid</th>\n",
       "      <th>artist_mb</th>\n",
       "      <th>artist_lastfm</th>\n",
       "      <th>country_mb</th>\n",
       "      <th>country_lastfm</th>\n",
       "      <th>tags_mb</th>\n",
       "      <th>tags_lastfm</th>\n",
       "      <th>listeners_lastfm</th>\n",
       "      <th>scrobbles_lastfm</th>\n",
       "      <th>ambiguous_artist</th>\n",
       "    </tr>\n",
       "  </thead>\n",
       "  <tbody>\n",
       "    <tr>\n",
       "      <th>0</th>\n",
       "      <td>cc197bad-dc9c-440d-a5b5-d52ba2e14234</td>\n",
       "      <td>Coldplay</td>\n",
       "      <td>Coldplay</td>\n",
       "      <td>United Kingdom</td>\n",
       "      <td>United Kingdom</td>\n",
       "      <td>rock; pop; alternative rock; british; uk; brit...</td>\n",
       "      <td>rock; alternative; britpop; alternative rock; ...</td>\n",
       "      <td>5381567.0</td>\n",
       "      <td>360111850.0</td>\n",
       "      <td>False</td>\n",
       "    </tr>\n",
       "    <tr>\n",
       "      <th>1</th>\n",
       "      <td>a74b1b7f-71a5-4011-9441-d0b5e4122711</td>\n",
       "      <td>Radiohead</td>\n",
       "      <td>Radiohead</td>\n",
       "      <td>United Kingdom</td>\n",
       "      <td>United Kingdom</td>\n",
       "      <td>rock; electronic; alternative rock; british; g...</td>\n",
       "      <td>alternative; alternative rock; rock; indie; el...</td>\n",
       "      <td>4732528.0</td>\n",
       "      <td>499548797.0</td>\n",
       "      <td>False</td>\n",
       "    </tr>\n",
       "    <tr>\n",
       "      <th>2</th>\n",
       "      <td>8bfac288-ccc5-448d-9573-c33ea2aa5c30</td>\n",
       "      <td>Red Hot Chili Peppers</td>\n",
       "      <td>Red Hot Chili Peppers</td>\n",
       "      <td>United States</td>\n",
       "      <td>United States</td>\n",
       "      <td>rock; alternative rock; 80s; 90s; rap; metal; ...</td>\n",
       "      <td>rock; alternative rock; alternative; Funk Rock...</td>\n",
       "      <td>4620835.0</td>\n",
       "      <td>293784041.0</td>\n",
       "      <td>False</td>\n",
       "    </tr>\n",
       "    <tr>\n",
       "      <th>3</th>\n",
       "      <td>73e5e69d-3554-40d8-8516-00cb38737a1c</td>\n",
       "      <td>Rihanna</td>\n",
       "      <td>Rihanna</td>\n",
       "      <td>United States</td>\n",
       "      <td>Barbados; United States</td>\n",
       "      <td>pop; dance; hip hop; reggae; contemporary r b;...</td>\n",
       "      <td>pop; rnb; female vocalists; dance; Hip-Hop; Ri...</td>\n",
       "      <td>4558193.0</td>\n",
       "      <td>199248986.0</td>\n",
       "      <td>False</td>\n",
       "    </tr>\n",
       "    <tr>\n",
       "      <th>4</th>\n",
       "      <td>b95ce3ff-3d05-4e87-9e01-c97b66af13d4</td>\n",
       "      <td>Eminem</td>\n",
       "      <td>Eminem</td>\n",
       "      <td>United States</td>\n",
       "      <td>United States</td>\n",
       "      <td>turkish; rap; american; hip-hop; hip hop; hiph...</td>\n",
       "      <td>rap; Hip-Hop; Eminem; hip hop; pop; american; ...</td>\n",
       "      <td>4517997.0</td>\n",
       "      <td>199507511.0</td>\n",
       "      <td>False</td>\n",
       "    </tr>\n",
       "  </tbody>\n",
       "</table>\n",
       "</div>"
      ],
      "text/plain": [
       "                                   mbid              artist_mb  \\\n",
       "0  cc197bad-dc9c-440d-a5b5-d52ba2e14234               Coldplay   \n",
       "1  a74b1b7f-71a5-4011-9441-d0b5e4122711              Radiohead   \n",
       "2  8bfac288-ccc5-448d-9573-c33ea2aa5c30  Red Hot Chili Peppers   \n",
       "3  73e5e69d-3554-40d8-8516-00cb38737a1c                Rihanna   \n",
       "4  b95ce3ff-3d05-4e87-9e01-c97b66af13d4                 Eminem   \n",
       "\n",
       "           artist_lastfm      country_mb           country_lastfm  \\\n",
       "0               Coldplay  United Kingdom           United Kingdom   \n",
       "1              Radiohead  United Kingdom           United Kingdom   \n",
       "2  Red Hot Chili Peppers   United States            United States   \n",
       "3                Rihanna   United States  Barbados; United States   \n",
       "4                 Eminem   United States            United States   \n",
       "\n",
       "                                             tags_mb  \\\n",
       "0  rock; pop; alternative rock; british; uk; brit...   \n",
       "1  rock; electronic; alternative rock; british; g...   \n",
       "2  rock; alternative rock; 80s; 90s; rap; metal; ...   \n",
       "3  pop; dance; hip hop; reggae; contemporary r b;...   \n",
       "4  turkish; rap; american; hip-hop; hip hop; hiph...   \n",
       "\n",
       "                                         tags_lastfm  listeners_lastfm  \\\n",
       "0  rock; alternative; britpop; alternative rock; ...         5381567.0   \n",
       "1  alternative; alternative rock; rock; indie; el...         4732528.0   \n",
       "2  rock; alternative rock; alternative; Funk Rock...         4620835.0   \n",
       "3  pop; rnb; female vocalists; dance; Hip-Hop; Ri...         4558193.0   \n",
       "4  rap; Hip-Hop; Eminem; hip hop; pop; american; ...         4517997.0   \n",
       "\n",
       "   scrobbles_lastfm  ambiguous_artist  \n",
       "0       360111850.0             False  \n",
       "1       499548797.0             False  \n",
       "2       293784041.0             False  \n",
       "3       199248986.0             False  \n",
       "4       199507511.0             False  "
      ]
     },
     "execution_count": 5,
     "metadata": {},
     "output_type": "execute_result"
    }
   ],
   "source": [
    "dataset.head()"
   ]
  },
  {
   "cell_type": "code",
   "execution_count": 21,
   "id": "engaging-gazette",
   "metadata": {},
   "outputs": [
    {
     "name": "stdout",
     "output_type": "stream",
     "text": [
      "4    4517997.0\n",
      "Name: listeners_lastfm, dtype: float64\n"
     ]
    }
   ],
   "source": [
    "#Select artist info based on name\n",
    "print(dataset.loc[dataset['artist_mb'] == 'Eminem'].listeners_lastfm)"
   ]
  },
  {
   "cell_type": "code",
   "execution_count": 18,
   "id": "communist-intellectual",
   "metadata": {},
   "outputs": [
    {
     "name": "stdout",
     "output_type": "stream",
     "text": [
      "683                          Hooverphonic\n",
      "1209                              Stromae\n",
      "1767                              Soulwax\n",
      "1889                               Cartel\n",
      "2269                     Stars of the Lid\n",
      "                        ...              \n",
      "1465680                             Zool.\n",
      "1465713                              Aran\n",
      "1465801                 Guilty As Charged\n",
      "1465847                              Kobo\n",
      "1465868    Mimile & les Bribeux d' Toubac\n",
      "Name: artist_mb, Length: 15461, dtype: object\n"
     ]
    }
   ],
   "source": [
    "#Select all artist by country\n",
    "print(dataset.loc[dataset['country_mb'] == 'Belgium'].artist_mb)"
   ]
  },
  {
   "cell_type": "code",
   "execution_count": 26,
   "id": "progressive-rehabilitation",
   "metadata": {},
   "outputs": [
    {
     "name": "stdout",
     "output_type": "stream",
     "text": [
      "3                                   Rihanna\n",
      "4                                    Eminem\n",
      "6                                Kanye West\n",
      "11                              Linkin Park\n",
      "19                                 Gorillaz\n",
      "                         ...               \n",
      "1464791                                 UFO\n",
      "1465200                                  WC\n",
      "1465369                           Wildchild\n",
      "1465372    DJ Jazzy Jeff & The Fresh Prince\n",
      "1465645                      Zero Tolerance\n",
      "Name: artist_mb, Length: 4448, dtype: object\n"
     ]
    }
   ],
   "source": [
    "#Select all artist by genre\n",
    "print(dataset.loc[dataset['tags_mb'].str.contains(\"hip hop\", na=False)].artist_mb)"
   ]
  },
  {
   "cell_type": "code",
   "execution_count": null,
   "id": "mysterious-injection",
   "metadata": {},
   "outputs": [],
   "source": []
  }
 ],
 "metadata": {
  "kernelspec": {
   "display_name": "Python 3",
   "language": "python",
   "name": "python3"
  },
  "language_info": {
   "codemirror_mode": {
    "name": "ipython",
    "version": 3
   },
   "file_extension": ".py",
   "mimetype": "text/x-python",
   "name": "python",
   "nbconvert_exporter": "python",
   "pygments_lexer": "ipython3",
   "version": "3.8.6"
  }
 },
 "nbformat": 4,
 "nbformat_minor": 5
}
